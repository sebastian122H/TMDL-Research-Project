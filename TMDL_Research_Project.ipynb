{
  "nbformat": 4,
  "nbformat_minor": 0,
  "metadata": {
    "colab": {
      "provenance": [],
      "include_colab_link": true
    },
    "kernelspec": {
      "name": "python3",
      "display_name": "Python 3"
    },
    "language_info": {
      "name": "python"
    }
  },
  "cells": [
    {
      "cell_type": "markdown",
      "metadata": {
        "id": "view-in-github",
        "colab_type": "text"
      },
      "source": [
        "<a href=\"https://colab.research.google.com/github/sebastian122H/TMDL-Research-Project/blob/main/TMDL_Research_Project.ipynb\" target=\"_parent\"><img src=\"https://colab.research.google.com/assets/colab-badge.svg\" alt=\"Open In Colab\"/></a>"
      ]
    },
    {
      "cell_type": "markdown",
      "source": [
        "# Research Project for TMDL"
      ],
      "metadata": {
        "id": "VHiqeO_vuOeQ"
      }
    },
    {
      "cell_type": "markdown",
      "source": [
        "##Ideas for the Research Project\n",
        "\n",
        "\n",
        "- Use Spotify and youtube data to measure if a song will reach a certain ranking in world wide ranks.\n",
        "LINK: https://www.kaggle.com/datasets/salvatorerastelli/spotify-and-youtube \n",
        "\n",
        "- USA real estate housing prices predicition\n",
        "LINK:https://www.kaggle.com/datasets/ahmedshahriarsakib/usa-real-estate-dataset\n",
        "\n",
        "- Population growth LINK: https://www.kaggle.com/datasets/gyaswanth297/world-population-insights-1970-2022\n",
        "\n",
        "- Final Idea: Spotify and Youtube Data. Using different elements of top 10 songs to predict if a song will land in the top 10 rankings\n"
      ],
      "metadata": {
        "id": "nvpWNG8eyEXf"
      }
    },
    {
      "cell_type": "code",
      "execution_count": null,
      "metadata": {
        "id": "lq7y68c9tunG"
      },
      "outputs": [],
      "source": []
    }
  ]
}